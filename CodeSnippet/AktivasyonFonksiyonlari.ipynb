{
  "nbformat": 4,
  "nbformat_minor": 0,
  "metadata": {
    "colab": {
      "provenance": [],
      "collapsed_sections": []
    },
    "kernelspec": {
      "name": "python3",
      "display_name": "Python 3"
    },
    "language_info": {
      "name": "python"
    }
  },
  "cells": [
    {
      "cell_type": "code",
      "execution_count": 2,
      "metadata": {
        "colab": {
          "base_uri": "https://localhost:8080/",
          "height": 306
        },
        "id": "_FENfm8tnapR",
        "outputId": "13623e6d-adc9-4a26-8307-81539b074ac3"
      },
      "outputs": [
        {
          "output_type": "display_data",
          "data": {
            "text/plain": [
              "<Figure size 432x288 with 4 Axes>"
            ],
            "image/png": "[encoded data removed]"
          },
          "metadata": {
            "needs_background": "light"
          }
        }
      ],
      "source": [
        "from matplotlib import pylab\n",
        "import pylab as plt\n",
        "import numpy as np\n",
        " \n",
        "from matplotlib.ticker import NullFormatter  # useful for `logit` scale\n",
        " \n",
        "sigmoid = lambda x: (1 / (1 + np.exp(-x)))\n",
        "step_func = lambda x, th: np.heaviside(x, th)\n",
        "tanh = lambda x: 2*sigmoid(x) - 1\n",
        "relu= lambda x: np.maximum(0, x)\n",
        " \n",
        "y = plt.linspace(-10,10,100)\n",
        " \n",
        "# plot with various axes scales\n",
        "plt.figure(1)\n",
        " \n",
        "# linear\n",
        "plt.subplot(221)\n",
        "plt.plot(y, sigmoid(y), 'b', label='linspace(-10,10,100)')\n",
        "plt.text(0.5, 0.5, r'$\\sigma(x)=\\frac{1}{1+e^{-x}}$', fontsize=12)\n",
        " \n",
        "plt.yscale('linear')\n",
        "plt.title('Sigmoid Function')\n",
        "plt.grid(True)\n",
        " \n",
        " \n",
        "# log\n",
        "plt.subplot(222)\n",
        "plt.plot(y, step_func(y, 0), 'b', label='linspace(-10,10,100)')\n",
        "plt.text(0.1, 0.5, r'$\\  x>0 \\Rightarrow y=1, x  \\leq 0 \\Rightarrow y=0 $', fontsize=11)\n",
        "plt.title('Step Function')\n",
        "plt.grid(True)\n",
        " \n",
        " \n",
        "# symmetric log\n",
        "plt.subplot(223)\n",
        "plt.plot(y, tanh(y), 'b', label='linspace(-10,10,100)')\n",
        "plt.text(-10, 0.5, r'$\\ tanh(x) = 2sigma(x) - 1 $', fontsize=11)\n",
        "plt.title('Tanh Function')\n",
        "plt.grid(True)\n",
        " \n",
        "# logit\n",
        "plt.subplot(224)\n",
        "plt.plot(y, relu(y), 'b', label='linspace(-10,10,100)')\n",
        "plt.text(-6, 6, r'$\\ relu(x) = max(0, x) $', fontsize=13)\n",
        " \n",
        "plt.title('ReLu Function')\n",
        "plt.grid(True)\n",
        "# Format the minor tick labels of the y-axis into empty strings with\n",
        "# `NullFormatter`, to avoid cumbering the axis with too many labels.\n",
        " \n",
        "plt.gca().xaxis.set_major_locator(plt.MultipleLocator(1))\n",
        "plt.gca().yaxis.set_major_locator(plt.MultipleLocator(1))\n",
        " \n",
        "# Adjust the subplot layout, because the logit one may take more space\n",
        "# than usual, due to y-tick labels like \"1 - 10^{-3}\"\n",
        "plt.subplots_adjust(top=0.92, bottom=0.08, left=0.10, right=0.95, hspace=0.25,\n",
        "                    wspace=0.35)\n",
        " \n",
        "plt.show()"
      ]
    },
    {
      "cell_type": "code",
      "source": [
        "import numpy as np\n",
        "     \n",
        "sigmoid = lambda Z: (1/(1+np.power(np.e, -1*Z)))\n",
        " \n",
        "input_x_2=np.array([[0.9], [0.1], [0.8]])  \n",
        "w_input_hidden=np.array([[0.9, 0.3, 0.4],[0.2, 0.8, 0.2], [0.1, 0.5, 0.6]])\n",
        "w_hidden_output=np.array([[0.3, 0.7, 0.5], [0.6, 0.5, 0.2], [0.8, 0.1, 0.9]])\n",
        "  \n",
        "x1=w_input_hidden.dot(input_x_2)\n",
        "A1=sigmoid(x1)\n",
        " \n",
        "x2=w_hidden_output.dot(A1)\n",
        "A2=sigmoid(x2)"
      ],
      "metadata": {
        "id": "R6X3UCSspayO"
      },
      "execution_count": 5,
      "outputs": []
    },
    {
      "cell_type": "code",
      "source": [
        "print(A1)"
      ],
      "metadata": {
        "colab": {
          "base_uri": "https://localhost:8080/"
        },
        "id": "GI3_K7OCqC-k",
        "outputId": "71a1df9b-59f2-4b06-ae8c-91b94c2df3ba"
      },
      "execution_count": 6,
      "outputs": [
        {
          "output_type": "stream",
          "name": "stdout",
          "text": [
            "[[0.76133271]\n",
            " [0.60348325]\n",
            " [0.65021855]]\n"
          ]
        }
      ]
    },
    {
      "cell_type": "code",
      "source": [
        "print(A2)"
      ],
      "metadata": {
        "colab": {
          "base_uri": "https://localhost:8080/"
        },
        "id": "Ksfn1OCQqENV",
        "outputId": "001d2228-5038-4912-af9e-560a3d5ea278"
      },
      "execution_count": 7,
      "outputs": [
        {
          "output_type": "stream",
          "name": "stdout",
          "text": [
            "[[0.72630335]\n",
            " [0.70859807]\n",
            " [0.77809706]]\n"
          ]
        }
      ]
    },
    {
      "cell_type": "code",
      "source": [],
      "metadata": {
        "id": "PVbJ_bYxqHAF"
      },
      "execution_count": null,
      "outputs": []
    }
  ]
}